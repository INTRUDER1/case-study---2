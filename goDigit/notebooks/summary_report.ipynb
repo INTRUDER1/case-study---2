{
 "cells": [
  {
   "cell_type": "markdown",
   "metadata": {},
   "source": [
    "\"\"\"\n",
    "# Summary Report Notebook\n",
    "\n",
    "### Objective:\n",
    "- Load `insurance_featured.csv`\n",
    "- Generate key business insights and statistics\n",
    "- Save summary as `summary_report.csv`\n",
    "\"\"\""
   ]
  },
  {
   "cell_type": "code",
   "execution_count": null,
   "metadata": {
    "vscode": {
     "languageId": "plaintext"
    }
   },
   "outputs": [],
   "source": [
    "import pandas as pd\n",
    "import os\n",
    "\n",
    "# Load dataset\n",
    "file_path = os.path.join(\"..\", \"data\", \"insurance_featured.csv\")\n",
    "if os.path.exists(file_path):\n",
    "    df = pd.read_csv(file_path)\n",
    "else:\n",
    "    raise FileNotFoundError(f\"File not found: {file_path}\")\n",
    "\n",
    "# 1️⃣ Average Charges per Region\n",
    "avg_charges_region = df.groupby(\"region\")['charges'].mean().reset_index()\n",
    "print(\"\\nAverage Charges by Region:\")\n",
    "print(avg_charges_region)\n",
    "\n",
    "# 2️⃣ Average Charges per Smoker Status\n",
    "avg_charges_smoker = df.groupby(\"smoker\")['charges'].mean().reset_index()\n",
    "print(\"\\nAverage Charges by Smoker Status:\")\n",
    "print(avg_charges_smoker)\n",
    "\n",
    "# 3️⃣ Average Charges by BMI Category\n",
    "avg_charges_bmi = df.groupby(\"bmi_category\")['charges'].mean().reset_index()\n",
    "print(\"\\nAverage Charges by BMI Category:\")\n",
    "print(avg_charges_bmi)\n",
    "\n",
    "# 4️⃣ Customer Distribution by Age Group\n",
    "age_group_counts = df['age_group'].value_counts().reset_index()\n",
    "age_group_counts.columns = ['Age Group', 'Customer Count']\n",
    "print(\"\\nCustomer Distribution by Age Group:\")\n",
    "print(age_group_counts)\n",
    "\n",
    "# 5️⃣ Save Summary Report\n",
    "summary_file_path = os.path.join(\"..\", \"data\", \"summary_report.csv\")\n",
    "summary_data = {\n",
    "    'Average Charges by Region': avg_charges_region,\n",
    "    'Average Charges by Smoker Status': avg_charges_smoker,\n",
    "    'Average Charges by BMI Category': avg_charges_bmi,\n",
    "    'Customer Distribution by Age Group': age_group_counts\n",
    "}\n",
    "\n",
    "with open(summary_file_path, 'w') as file:\n",
    "    for key, df in summary_data.items():\n",
    "        file.write(f\"\\n{key}\\n\")\n",
    "        df.to_csv(file, index=False)\n",
    "        file.write(\"\\n\")\n",
    "\n",
    "print(\"\\nSummary Report Generated: summary_report.csv\")"
   ]
  }
 ],
 "metadata": {
  "language_info": {
   "name": "python"
  }
 },
 "nbformat": 4,
 "nbformat_minor": 2
}
