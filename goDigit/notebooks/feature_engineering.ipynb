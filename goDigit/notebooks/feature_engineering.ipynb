{
 "cells": [
  {
   "cell_type": "markdown",
   "metadata": {},
   "source": [
    "\"\"\"\n",
    "# Feature Engineering Notebook\n",
    "\n",
    "### Objective:\n",
    "- Load cleaned dataset (`insurance_cleaned.csv`)\n",
    "- Create new features (BMI categories, Age groups, Interaction features)\n",
    "- Save transformed dataset as `insurance_featured.csv`\n",
    "\"\"\""
   ]
  },
  {
   "cell_type": "code",
   "execution_count": null,
   "metadata": {
    "vscode": {
     "languageId": "plaintext"
    }
   },
   "outputs": [],
   "source": [
    "import pandas as pd\n",
    "import os\n",
    "\n",
    "# Define file path\n",
    "file_path = os.path.join(\"..\", \"data\", \"insurance_cleaned.csv\")\n",
    "if os.path.exists(file_path):\n",
    "    df = pd.read_csv(file_path)\n",
    "else:\n",
    "    raise FileNotFoundError(f\"File not found: {file_path}\")\n",
    "\n",
    "# Categorize BMI\n",
    "def categorize_bmi(bmi):\n",
    "    if bmi < 18.5:\n",
    "        return \"Underweight\"\n",
    "    elif 18.5 <= bmi < 25:\n",
    "        return \"Normal\"\n",
    "    elif 25 <= bmi < 30:\n",
    "        return \"Overweight\"\n",
    "    else:\n",
    "        return \"Obese\"\n",
    "\n",
    "df[\"bmi_category\"] = df[\"bmi\"].apply(categorize_bmi)\n",
    "\n",
    "# Categorize Age\n",
    "def categorize_age(age):\n",
    "    if age < 31:\n",
    "        return \"Young\"\n",
    "    elif 31 <= age < 51:\n",
    "        return \"Middle-Aged\"\n",
    "    else:\n",
    "        return \"Senior\"\n",
    "\n",
    "df[\"age_group\"] = df[\"age\"].apply(categorize_age)\n",
    "\n",
    "# Interaction Features\n",
    "df[\"bmi_smoker_interaction\"] = df[\"bmi\"] * df[\"smoker\"].apply(lambda x: 1 if x == \"yes\" else 0)\n",
    "df[\"age_smoker_interaction\"] = df[\"age\"] * df[\"smoker\"].apply(lambda x: 1 if x == \"yes\" else 0)\n",
    "\n",
    "# Save enhanced dataset\n",
    "featured_file_path = os.path.join(\"..\", \"data\", \"insurance_featured.csv\")\n",
    "df.to_csv(featured_file_path, index=False)\n",
    "\n",
    "print(\"\\nFeature Engineering Completed. Saved as insurance_featured.csv\")\n",
    "print(df.head())\n"
   ]
  }
 ],
 "metadata": {
  "language_info": {
   "name": "python"
  }
 },
 "nbformat": 4,
 "nbformat_minor": 2
}
