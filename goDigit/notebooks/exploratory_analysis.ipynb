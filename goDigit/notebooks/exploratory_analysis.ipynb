{
 "cells": [
  {
   "cell_type": "markdown",
   "metadata": {},
   "source": [
    "\"\"\"\n",
    "# Exploratory Data Analysis (EDA) Notebook\n",
    "\n",
    "### Objective:\n",
    "- Load `insurance_featured.csv`\n",
    "- Perform data visualization & statistical analysis\n",
    "- Identify key trends and relationships\n",
    "\"\"\""
   ]
  },
  {
   "cell_type": "code",
   "execution_count": null,
   "metadata": {
    "vscode": {
     "languageId": "plaintext"
    }
   },
   "outputs": [],
   "source": [
    "import pandas as pd\n",
    "import seaborn as sns\n",
    "import matplotlib.pyplot as plt\n",
    "import os\n",
    "\n",
    "# Load dataset\n",
    "file_path = os.path.join(\"..\", \"data\", \"insurance_featured.csv\")\n",
    "if os.path.exists(file_path):\n",
    "    df = pd.read_csv(file_path)\n",
    "else:\n",
    "    raise FileNotFoundError(f\"File not found: {file_path}\")\n",
    "\n",
    "# Display dataset info\n",
    "print(\"Dataset Info:\")\n",
    "print(df.info())\n",
    "\n",
    "# Convert categorical variables to numerical for correlation analysis\n",
    "df_numeric = df.copy()\n",
    "df_numeric['sex'] = df_numeric['sex'].map({'male': 0, 'female': 1})\n",
    "df_numeric['smoker'] = df_numeric['smoker'].map({'no': 0, 'yes': 1})\n",
    "df_numeric = pd.get_dummies(df_numeric, columns=['region', 'bmi_category', 'age_group'])\n",
    "\n",
    "# 1️⃣ Distribution of Age, BMI, and Charges\n",
    "fig, axes = plt.subplots(1, 3, figsize=(15, 5))\n",
    "\n",
    "sns.histplot(df['age'], bins=20, kde=True, ax=axes[0])\n",
    "axes[0].set_title(\"Age Distribution\")\n",
    "\n",
    "sns.histplot(df['bmi'], bins=20, kde=True, ax=axes[1])\n",
    "axes[1].set_title(\"BMI Distribution\")\n",
    "\n",
    "sns.histplot(df['charges'], bins=20, kde=True, ax=axes[2])\n",
    "axes[2].set_title(\"Charges Distribution\")\n",
    "\n",
    "plt.tight_layout()\n",
    "plt.show()\n",
    "\n",
    "# 2️⃣ Correlation Analysis\n",
    "plt.figure(figsize=(8, 5))\n",
    "sns.heatmap(df_numeric.corr(), annot=True, cmap=\"coolwarm\", fmt=\".2f\", linewidths=0.5)\n",
    "plt.title(\"Correlation Matrix\")\n",
    "plt.show()\n",
    "\n",
    "# 3️⃣ Boxplot for Smoker vs. Charges\n",
    "plt.figure(figsize=(6, 4))\n",
    "sns.boxplot(x=\"smoker\", y=\"charges\", hue=\"smoker\", data=df, palette=['blue', 'red'], legend=False)\n",
    "plt.title(\"Insurance Charges: Smokers vs. Non-Smokers\")\n",
    "plt.xlabel(\"Smoker\")\n",
    "plt.ylabel(\"Charges\")\n",
    "plt.show()\n"
   ]
  }
 ],
 "metadata": {
  "kernelspec": {
   "display_name": "Python 3 (ipykernel)",
   "language": "python",
   "name": "python3"
  },
  "language_info": {
   "codemirror_mode": {
    "name": "ipython",
    "version": 3
   },
   "file_extension": ".py",
   "mimetype": "text/x-python",
   "name": "python",
   "nbconvert_exporter": "python",
   "pygments_lexer": "ipython3",
   "version": "3.12.6"
  }
 },
 "nbformat": 4,
 "nbformat_minor": 4
}
